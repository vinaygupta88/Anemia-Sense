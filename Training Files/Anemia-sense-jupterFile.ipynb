{
 "cells": [
  {
   "cell_type": "markdown",
   "id": "7f976acf-29b1-4164-9bbd-6e96213dc1a8",
   "metadata": {},
   "source": [
    "# A-Data Collection and Preparation"
   ]
  },
  {
   "cell_type": "markdown",
   "id": "56b44461-0b4b-4867-89b1-90b96718eef4",
   "metadata": {},
   "source": [
    "## Importing the Libraries"
   ]
  },
  {
   "cell_type": "code",
   "execution_count": null,
   "id": "78badcdd-7210-4ee3-bde3-c2f192a3e14b",
   "metadata": {},
   "outputs": [],
   "source": [
    "import pandas as pd\n",
    "import numpy as np\n",
    "import matplotlib.pyplot as plt\n",
    "import seaborn as sns"
   ]
  },
  {
   "cell_type": "markdown",
   "id": "87737f0f-280d-42b1-85e8-712aff43acba",
   "metadata": {},
   "source": [
    "## Reading the data set"
   ]
  },
  {
   "cell_type": "code",
   "execution_count": null,
   "id": "2ea033cc-d2a4-42bc-ab1c-00b2f3a4c45a",
   "metadata": {},
   "outputs": [],
   "source": [
    "df=pd.read_csv('anemia.csv')\n",
    "df.head()"
   ]
  },
  {
   "cell_type": "markdown",
   "id": "5d61964e-1cec-40d9-9854-df742fb171ca",
   "metadata": {},
   "source": [
    "## Data Preparation"
   ]
  },
  {
   "cell_type": "markdown",
   "id": "443550fd-5b78-4d86-9134-eba93b8bcbda",
   "metadata": {},
   "source": [
    " #### 1- Handling missing values"
   ]
  },
  {
   "cell_type": "code",
   "execution_count": null,
   "id": "4f82b6ea-f466-419d-b589-3be9510934fe",
   "metadata": {},
   "outputs": [],
   "source": [
    "df.info()"
   ]
  },
  {
   "cell_type": "code",
   "execution_count": null,
   "id": "44f9567e-04a9-43b3-926d-05c977bc1613",
   "metadata": {},
   "outputs": [],
   "source": [
    "df.shape"
   ]
  },
  {
   "cell_type": "code",
   "execution_count": null,
   "id": "b54266d2-1b78-4e91-ae85-d1b42548653b",
   "metadata": {},
   "outputs": [],
   "source": [
    "df.isnull().sum()"
   ]
  },
  {
   "cell_type": "markdown",
   "id": "930de29b-b84b-43d1-ada0-67989076c6e3",
   "metadata": {},
   "source": [
    "#### 2- Handling Imbalanced values"
   ]
  },
  {
   "cell_type": "code",
   "execution_count": null,
   "id": "afee55ab-30af-4542-bce0-68768c9a7f73",
   "metadata": {},
   "outputs": [],
   "source": [
    "# 0 for not Anemia and 1 for Anemia\n",
    "# checking for the count of anemia and not anemia\n",
    "results = df['Result'].value_counts()\n",
    "results.plot(kind = 'bar',color=['blue','green'])\n",
    "plt.xlabel('Results')\n",
    "plt.ylabel('Frequency')\n",
    "plt.title('Count of Result')\n",
    "plt.show()"
   ]
  },
  {
   "cell_type": "code",
   "execution_count": null,
   "id": "869d2b94-f4aa-4b5b-85d2-dcd018f3de31",
   "metadata": {},
   "outputs": [],
   "source": [
    "# female count is observed to be more than male so we balance it using undesampling\n",
    "from sklearn.utils import resample\n",
    "majorclass = df[df['Result'] == 0]\n",
    "minorclass = df[df['Result'] == 1]\n",
    "major_downsample = resample(majorclass, replace=False, n_samples=len(minorclass),random_state=42)\n",
    "df = pd.concat([major_downsample,minorclass])\n",
    "df['Result'].value_counts()"
   ]
  },
  {
   "cell_type": "code",
   "execution_count": null,
   "id": "9e63380f-c3c9-4eeb-9ef4-fe4b696a969c",
   "metadata": {},
   "outputs": [],
   "source": [
    "# Plotting the balanced gender counts\n",
    "result_balanced = df['Result'].value_counts()\n",
    "result_balanced.plot(kind = 'bar', color = ['blue','green'])\n",
    "plt.xlabel('Result')\n",
    "plt.ylabel('Frequency')\n",
    "plt.title('Count of Result(Balanced)')\n",
    "plt.show()"
   ]
  },
  {
   "cell_type": "code",
   "execution_count": null,
   "id": "171d833d-7b37-458a-b2ae-9ffa7fb501b5",
   "metadata": {},
   "outputs": [],
   "source": [
    "# Plotting the balanced gender counts\n",
    "result_balanced = df['Result'].value_counts()\n",
    "result_balanced.plot(kind = 'bar', color = ['blue','green'])\n",
    "plt.xlabel('Result')\n",
    "plt.ylabel('Frequency')\n",
    "plt.title('Count of Result(Balanced)')\n",
    "plt.show()"
   ]
  },
  {
   "cell_type": "markdown",
   "id": "0a95922a-a43a-4e9c-829f-73bdbfbf9c1f",
   "metadata": {},
   "source": [
    "# B- Exploratory Data Analysis"
   ]
  },
  {
   "cell_type": "markdown",
   "id": "52edb4f6-c706-4b12-a0c9-3dd0081b6d63",
   "metadata": {},
   "source": [
    "#### Descriptive statistical"
   ]
  },
  {
   "cell_type": "code",
   "execution_count": null,
   "id": "2b22a7b6-d1ad-4d65-a799-784ecce2d0b5",
   "metadata": {},
   "outputs": [],
   "source": [
    "df.describe"
   ]
  },
  {
   "cell_type": "markdown",
   "id": "3c64b702-5943-4001-b698-e664968b6d67",
   "metadata": {},
   "source": [
    "#### Visual Analysis"
   ]
  },
  {
   "cell_type": "code",
   "execution_count": null,
   "id": "d37a15a5-136f-4a5c-9219-e61bac288bfd",
   "metadata": {},
   "outputs": [],
   "source": [
    "#Visual analysis \n",
    "\n",
    "fig,axis=plt.subplots(2,2)\n",
    "axis[0,0].plot(df['Hemoglobin'])\n",
    "axis[0,1].plot(df['MCH'])\n",
    "axis[1,0].plot(df['MCHC'])\n",
    "axis[1,1].plot(df['MCV'])"
   ]
  },
  {
   "cell_type": "code",
   "execution_count": null,
   "id": "38e5f64d-8087-4322-bf1a-4dbd2455a820",
   "metadata": {},
   "outputs": [],
   "source": [
    "#identifying outliers\n",
    "sns.boxplot(df['Hemoglobin'], orient='h')\n",
    "plt.show()\n",
    "\n",
    "plt.scatter(df['Hemoglobin'],df['MCV'])\n",
    "plt.show()\n",
    "\n",
    "plt.scatter(df['MCH'],df['MCHC'])"
   ]
  },
  {
   "cell_type": "markdown",
   "id": "9bb5bcad-670b-4116-b546-72a2e75039fc",
   "metadata": {},
   "source": [
    "#### Univariate Analysis"
   ]
  },
  {
   "cell_type": "code",
   "execution_count": null,
   "id": "b7f9460a-1e46-4955-9547-071e5901a9ab",
   "metadata": {},
   "outputs": [],
   "source": [
    "#Univariate Analysis: Bar graph \n",
    "\n",
    "output=df['Gender'].value_counts()\n",
    "output.plot(kind='bar',color=['orange','green'])\n",
    "plt.xlabel('Gender')\n",
    "plt.ylabel('Frequency')\n",
    "plt.title('Gender count')\n",
    "plt.show()"
   ]
  },
  {
   "cell_type": "code",
   "execution_count": null,
   "id": "d3e614b9-9df6-465e-8417-130e387eca05",
   "metadata": {},
   "outputs": [],
   "source": [
    "#Univariate analysis: displot\n",
    "\n",
    "# Hemoglobin\n",
    "\n",
    "sns.displot(df['Hemoglobin'],kde=True)"
   ]
  },
  {
   "cell_type": "markdown",
   "id": "0e428682-6a6f-4396-a3f8-d8329cf3d7b3",
   "metadata": {},
   "source": [
    "#### Bivariate Analysis"
   ]
  },
  {
   "cell_type": "code",
   "execution_count": null,
   "id": "ed8c6cdc-15b3-472d-92e2-cadc8f40905d",
   "metadata": {},
   "outputs": [],
   "source": [
    "plt.figure(figsize = (6,6))\n",
    "ax = sns.barplot(y = df['Hemoglobin'], x = df['Gender'], hue = df['Result'], ci = None)\n",
    "ax.set(xlabel = ['male','female'])\n",
    "ax.bar_label(ax.containers[0])\n",
    "ax.bar_label(ax.containers[1])\n",
    "plt.title(\"Mean Hemoglobin by Gender and Results\")\n",
    "plt.show()"
   ]
  },
  {
   "cell_type": "markdown",
   "id": "7d4b2012-3ef0-4f3c-a6f4-0a78f17d4da4",
   "metadata": {},
   "source": [
    "#### Multivariate Analysis"
   ]
  },
  {
   "cell_type": "code",
   "execution_count": null,
   "id": "8ea0b154-7ba3-414d-87c5-5bba3142044f",
   "metadata": {},
   "outputs": [],
   "source": [
    "sns.pairplot(df)"
   ]
  },
  {
   "cell_type": "code",
   "execution_count": null,
   "id": "a6274d1b-2940-4ddb-9b49-eb5ae1e79920",
   "metadata": {},
   "outputs": [],
   "source": [
    "sns.heatmap(df.corr(),annot=True,cmap=\"RdYlGn\",linewidth=0.2)\n",
    "fig=plt.gcf()\n",
    "fig.set_size_inches(10,8)\n",
    "plt.show()"
   ]
  },
  {
   "cell_type": "markdown",
   "id": "33a1961f-316f-449a-9267-281bb52843c3",
   "metadata": {},
   "source": [
    "### Splitting Data Into Train And Test"
   ]
  },
  {
   "cell_type": "code",
   "execution_count": null,
   "id": "f0b6c2fd-7f52-4e0f-a8da-9d4a0e535343",
   "metadata": {},
   "outputs": [],
   "source": [
    "# x - independent variables\n",
    "\n",
    "x=df.drop('Result',axis=1)\n",
    "x"
   ]
  },
  {
   "cell_type": "code",
   "execution_count": null,
   "id": "b271eede-4853-4972-a265-4552dd83c75e",
   "metadata": {},
   "outputs": [],
   "source": [
    "# y - dependent variables\n",
    "\n",
    "y=df['Result']\n",
    "y"
   ]
  },
  {
   "cell_type": "code",
   "execution_count": null,
   "id": "7e969deb-26d2-4612-acf4-182cf9a129b4",
   "metadata": {},
   "outputs": [],
   "source": [
    "from sklearn.model_selection import train_test_split\n",
    "\n",
    "x_train,x_test,y_train,y_test = train_test_split(x,y,test_size=0.2,random_state=20)\n",
    "\n",
    "print(x_train.shape)\n",
    "print(x_test.shape)\n",
    "print(y_train.shape)\n",
    "print(y_test.shape)"
   ]
  },
  {
   "cell_type": "markdown",
   "id": "1b8fe4e6-7f7f-49aa-8d5c-16388882b747",
   "metadata": {},
   "source": [
    "# C- Model Building"
   ]
  },
  {
   "cell_type": "markdown",
   "id": "2c511c02-5c5f-40f8-84d9-cc8762f1617f",
   "metadata": {},
   "source": [
    "## Training the model in multiple algorithms"
   ]
  },
  {
   "cell_type": "markdown",
   "id": "9f666a58-bb59-4a85-8fe2-281df1ae016e",
   "metadata": {},
   "source": [
    "#### 1-Logistic Regression Model "
   ]
  },
  {
   "cell_type": "code",
   "execution_count": null,
   "id": "5fe8e292-1492-41aa-9d8a-d1d744445825",
   "metadata": {},
   "outputs": [],
   "source": [
    "from sklearn.linear_model import LogisticRegression \n",
    "from sklearn.metrics import accuracy_score \n",
    "from sklearn.metrics import classification_report\n",
    "logistic_regression = LogisticRegression()\n",
    "logistic_regression.fit(x_train, y_train)\n",
    "\n",
    "y_pred = logistic_regression.predict(x_test)\n",
    "\n",
    "acc_lr = accuracy_score(y_test,y_pred)\n",
    "c_lr = classification_report(y_test,y_pred)\n",
    "\n",
    "print('Accuracy Score: ',acc_lr)\n",
    "print(c_lr)"
   ]
  },
  {
   "cell_type": "markdown",
   "id": "16e2a25f-13aa-418e-a31b-574922711b66",
   "metadata": {},
   "source": [
    "#### 2-Random forest model"
   ]
  },
  {
   "cell_type": "code",
   "execution_count": null,
   "id": "770d2956-65cf-4c54-a6b9-644658d45bba",
   "metadata": {},
   "outputs": [],
   "source": [
    "from sklearn.ensemble import RandomForestClassifier\n",
    "\n",
    "random_forest = RandomForestClassifier()\n",
    "random_forest.fit(x_train, y_train)\n",
    "y_pred = random_forest.predict(x_test)\n",
    "\n",
    "acc_rf = accuracy_score(y_test,y_pred)\n",
    "c_rf = classification_report(y_test,y_pred)\n",
    "\n",
    "print('Accuracy Score: ',acc_rf)\n",
    "print(c_rf)"
   ]
  },
  {
   "cell_type": "markdown",
   "id": "4dddcb12-75f0-42db-85a4-03235364c665",
   "metadata": {},
   "source": [
    "#### 3-Decision Tree Model"
   ]
  },
  {
   "cell_type": "code",
   "execution_count": null,
   "id": "0c8aed55-3a28-4f5d-bd97-431166106d4e",
   "metadata": {},
   "outputs": [],
   "source": [
    "from sklearn.tree import DecisionTreeClassifier\n",
    "\n",
    "decision_tree_model = DecisionTreeClassifier()\n",
    "decision_tree_model.fit(x_train, y_train)\n",
    "y_pred = decision_tree_model.predict(x_test)\n",
    "\n",
    "acc_dt = accuracy_score(y_test,y_pred)\n",
    "c_dt = classification_report(y_test,y_pred)\n",
    "\n",
    "print('Accuracy Score: ',acc_dt)\n",
    "print(c_dt)"
   ]
  },
  {
   "cell_type": "markdown",
   "id": "cf484c71-442c-41a0-818f-a0e442245f6a",
   "metadata": {},
   "source": [
    "#### 4-Gaussian Navies Bayes "
   ]
  },
  {
   "cell_type": "code",
   "execution_count": null,
   "id": "e74a7ec9-8489-4cf6-af80-041ff32e4e43",
   "metadata": {},
   "outputs": [],
   "source": [
    "from sklearn.naive_bayes import GaussianNB\n",
    "\n",
    "NB = GaussianNB()\n",
    "NB.fit(x_train, y_train)\n",
    "y_pred = NB.predict(x_test)\n",
    "\n",
    "acc_nb = accuracy_score(y_test,y_pred)\n",
    "c_nb = classification_report(y_test,y_pred)\n",
    "\n",
    "print('Accuracy Score: ',acc_nb)\n",
    "print(c_nb)"
   ]
  },
  {
   "cell_type": "markdown",
   "id": "338dec6d-bff5-4785-a9bf-14384a302d7d",
   "metadata": {},
   "source": [
    "#### 5-Support Vector Machine"
   ]
  },
  {
   "cell_type": "code",
   "execution_count": null,
   "id": "3b057ab5-9562-4e41-bdbe-43cc92ecf57c",
   "metadata": {},
   "outputs": [],
   "source": [
    "from sklearn.svm import SVC\n",
    "\n",
    "support_vector = SVC()\n",
    "support_vector.fit(x_train, y_train)\n",
    "y_pred = support_vector.predict(x_test)\n",
    "\n",
    "acc_svc = accuracy_score(y_test,y_pred)\n",
    "c_svc = classification_report(y_test,y_pred)\n",
    "\n",
    "print('Accuracy Score: ',acc_svc)\n",
    "print(c_svc)"
   ]
  },
  {
   "cell_type": "markdown",
   "id": "a7a7993c-2cca-441f-a30c-cd51ae2ae288",
   "metadata": {},
   "source": [
    "#### 6-Gradient Boosting Classifier "
   ]
  },
  {
   "cell_type": "code",
   "execution_count": null,
   "id": "ee9c9585-c281-4a8d-a050-292e4c858c48",
   "metadata": {},
   "outputs": [],
   "source": [
    "from sklearn.ensemble import GradientBoostingClassifier\n",
    "\n",
    "GBC = GradientBoostingClassifier()\n",
    "GBC.fit(x_train, y_train)\n",
    "y_pred = GBC.predict(x_test)\n",
    "\n",
    "acc_gbc = accuracy_score(y_test,y_pred)\n",
    "c_gbc = classification_report(y_test,y_pred)\n",
    "\n",
    "print('Accuracy Score: ',acc_gbc)\n",
    "print(c_gbc)"
   ]
  },
  {
   "cell_type": "markdown",
   "id": "4cff2c29-e3a8-44dc-82b2-d25534212f54",
   "metadata": {},
   "source": [
    "## Testing the model\n"
   ]
  },
  {
   "cell_type": "code",
   "execution_count": null,
   "id": "3701cbec-738b-4a43-8f1d-22447da7048a",
   "metadata": {},
   "outputs": [],
   "source": [
    "prediction = GBC.predict([[0,11.6,22.3,30.9,74.5]])"
   ]
  },
  {
   "cell_type": "code",
   "execution_count": null,
   "id": "59ca8cff-77ad-47bd-a6ff-c06a35247cc2",
   "metadata": {},
   "outputs": [],
   "source": [
    "prediction[0]"
   ]
  },
  {
   "cell_type": "code",
   "execution_count": null,
   "id": "96a909eb-937b-4867-a039-157f08900128",
   "metadata": {},
   "outputs": [],
   "source": [
    "if prediction[0] == 1:\n",
    "    print(\"You don't have any Anemia Disease\")\n",
    "elif prediction[0] == 1:\n",
    "    print(\"You have Anemia Disease\")"
   ]
  },
  {
   "cell_type": "markdown",
   "id": "5680d8cb-05aa-40af-9010-91cedf316010",
   "metadata": {},
   "source": [
    "# Performance testing and Hyper Parameter Tunning"
   ]
  },
  {
   "cell_type": "markdown",
   "id": "c75633e7-7df6-41fa-b11f-d6f15cd366ae",
   "metadata": {},
   "source": [
    "#### Testing model with multiple evaluation metrics"
   ]
  },
  {
   "cell_type": "code",
   "execution_count": null,
   "id": "9ff45c2d-8ed0-45e0-a3ae-51027fd94a8d",
   "metadata": {},
   "outputs": [],
   "source": [
    "model = pd.DataFrame({\n",
    "    'Model': [\n",
    "        'Linear Regression',\n",
    "        'Decision Tree Classifier',\n",
    "        'Random Forest Classifier',\n",
    "        'Gaussian Naive Bayes',\n",
    "        'Support Vector Classifier',\n",
    "        'Gradient Boost Classifier'\n",
    "    ],\n",
    "    'Score': [acc_lr,acc_dt,acc_rf,acc_nb,acc_svc,acc_gbc],\n",
    "})"
   ]
  },
  {
   "cell_type": "code",
   "execution_count": null,
   "id": "95eb7fd4-8cf9-4d16-a02a-6d886a2ee8ea",
   "metadata": {},
   "outputs": [],
   "source": [
    "model"
   ]
  },
  {
   "cell_type": "markdown",
   "id": "7eca3355-e184-4877-8e7b-2aa6f2d6d81f",
   "metadata": {},
   "source": [
    "# Model Deployment"
   ]
  },
  {
   "cell_type": "markdown",
   "id": "601f06c5-7bac-45d2-86a4-6763bc9b465f",
   "metadata": {},
   "source": [
    "#### Save the best Model"
   ]
  },
  {
   "cell_type": "code",
   "execution_count": null,
   "id": "89b7a478-2444-43ee-9d65-cb78aafa0b22",
   "metadata": {},
   "outputs": [],
   "source": [
    "## I used Gradient Boost Classifier for higher accuracy and more precise results\n",
    "\n",
    "import pickle\n",
    "import warnings\n",
    "pickle.dump(GBC,open(\"model.pkl\",\"wb\"))\n",
    "\n",
    "# Model is succesfully created and save in the directories\n",
    "# Now intregrate saved model with web framework through which user will intract and check their anemia aduicted or not"
   ]
  }
 ],
 "metadata": {
  "kernelspec": {
   "display_name": "Python 3 (ipykernel)",
   "language": "python",
   "name": "python3"
  },
  "language_info": {
   "codemirror_mode": {
    "name": "ipython",
    "version": 3
   },
   "file_extension": ".py",
   "mimetype": "text/x-python",
   "name": "python",
   "nbconvert_exporter": "python",
   "pygments_lexer": "ipython3",
   "version": "3.13.5"
  }
 },
 "nbformat": 4,
 "nbformat_minor": 5
}
